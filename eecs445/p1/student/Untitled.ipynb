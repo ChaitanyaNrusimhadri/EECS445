{
 "cells": [
  {
   "cell_type": "code",
   "execution_count": 1,
   "id": "c6140a5a",
   "metadata": {},
   "outputs": [],
   "source": [
    "from project1 import *"
   ]
  },
  {
   "cell_type": "code",
   "execution_count": 4,
   "id": "2ba9451a",
   "metadata": {},
   "outputs": [
    {
     "ename": "AttributeError",
     "evalue": "module 'string' has no attribute 'replace'",
     "output_type": "error",
     "traceback": [
      "\u001b[1;31m---------------------------------------------------------------------------\u001b[0m",
      "\u001b[1;31mAttributeError\u001b[0m                            Traceback (most recent call last)",
      "\u001b[1;32m~\\AppData\\Local\\Temp\\ipykernel_5832\\3179374970.py\u001b[0m in \u001b[0;36m<module>\u001b[1;34m\u001b[0m\n\u001b[1;32m----> 1\u001b[1;33m \u001b[0mextract_word\u001b[0m\u001b[1;33m(\u001b[0m\u001b[1;34m\"It’s a test sentence! Does it look CORRECT?\"\u001b[0m\u001b[1;33m)\u001b[0m\u001b[1;33m\u001b[0m\u001b[1;33m\u001b[0m\u001b[0m\n\u001b[0m",
      "\u001b[1;32m~\\Desktop\\eecs445\\p1_starter_code\\student\\project1.py\u001b[0m in \u001b[0;36mextract_word\u001b[1;34m(input_string)\u001b[0m\n\u001b[0;32m     49\u001b[0m     \u001b[1;32mfor\u001b[0m \u001b[0mi\u001b[0m \u001b[1;32min\u001b[0m \u001b[0mstring\u001b[0m\u001b[1;33m.\u001b[0m\u001b[0mpunctuation\u001b[0m\u001b[1;33m:\u001b[0m\u001b[1;33m\u001b[0m\u001b[1;33m\u001b[0m\u001b[0m\n\u001b[0;32m     50\u001b[0m         \u001b[0minput_string\u001b[0m \u001b[1;33m=\u001b[0m \u001b[0minput_string\u001b[0m\u001b[1;33m.\u001b[0m\u001b[0mreplace\u001b[0m\u001b[1;33m(\u001b[0m\u001b[0mi\u001b[0m\u001b[1;33m,\u001b[0m\u001b[1;34m' '\u001b[0m\u001b[1;33m)\u001b[0m\u001b[1;33m\u001b[0m\u001b[1;33m\u001b[0m\u001b[0m\n\u001b[1;32m---> 51\u001b[1;33m     \u001b[1;32mreturn\u001b[0m \u001b[0minput_string\u001b[0m\u001b[1;33m.\u001b[0m\u001b[0msplit\u001b[0m\u001b[1;33m(\u001b[0m\u001b[1;33m)\u001b[0m\u001b[1;33m\u001b[0m\u001b[1;33m\u001b[0m\u001b[0m\n\u001b[0m\u001b[0;32m     52\u001b[0m \u001b[1;33m\u001b[0m\u001b[0m\n\u001b[0;32m     53\u001b[0m \u001b[1;33m\u001b[0m\u001b[0m\n",
      "\u001b[1;31mAttributeError\u001b[0m: module 'string' has no attribute 'replace'"
     ]
    }
   ],
   "source": [
    "extract_word(\"It’s a test sentence! Does it look CORRECT?\")"
   ]
  },
  {
   "cell_type": "code",
   "execution_count": 6,
   "id": "73b76171",
   "metadata": {},
   "outputs": [
    {
     "name": "stdout",
     "output_type": "stream",
     "text": [
      "                                                   text   created_utc  label  \\\n",
      "0     Nooooooooo I was a student staff member at the...  1.548903e+09     -1   \n",
      "1     Doesn't change the fact that they shadowbanned...  1.547613e+09     -1   \n",
      "2     Honestly im a pretty clumsy belligerent and i ...  1.547883e+09     -1   \n",
      "3          My bad. I typo'd. It should have said \"how\".  1.548468e+09      0   \n",
      "4     Yeah I regret ever moving to Leduc. It's one o...  1.546562e+09     -1   \n",
      "...                                                 ...           ...    ...   \n",
      "5978  Thanks friend, you have a good day! ([NAME] is...  1.547762e+09      1   \n",
      "5979  Thank you for that. My gf jumped right next to...  1.548286e+09      1   \n",
      "5980  >He was deeply and utterly insecure, and it wa...  1.548770e+09     -1   \n",
      "5981  Yeah but she didn’t get anybody to vote for an...  1.546466e+09     -1   \n",
      "5982  There is literally NO reason as to why the Jap...  1.548960e+09      0   \n",
      "\n",
      "        emotion  \n",
      "0       sadness  \n",
      "1       sadness  \n",
      "2       sadness  \n",
      "3       neutral  \n",
      "4       sadness  \n",
      "...         ...  \n",
      "5978  gratitude  \n",
      "5979  gratitude  \n",
      "5980    sadness  \n",
      "5981    sadness  \n",
      "5982    neutral  \n",
      "\n",
      "[5983 rows x 4 columns]\n"
     ]
    }
   ],
   "source": [
    "print(load_data(\"data/dataset.csv\"))"
   ]
  },
  {
   "cell_type": "code",
   "execution_count": null,
   "id": "27b3afcd",
   "metadata": {},
   "outputs": [],
   "source": []
  }
 ],
 "metadata": {
  "kernelspec": {
   "display_name": "Python 3 (ipykernel)",
   "language": "python",
   "name": "python3"
  },
  "language_info": {
   "codemirror_mode": {
    "name": "ipython",
    "version": 3
   },
   "file_extension": ".py",
   "mimetype": "text/x-python",
   "name": "python",
   "nbconvert_exporter": "python",
   "pygments_lexer": "ipython3",
   "version": "3.7.4"
  }
 },
 "nbformat": 4,
 "nbformat_minor": 5
}
