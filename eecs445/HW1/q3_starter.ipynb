{
 "cells": [
  {
   "cell_type": "markdown",
   "metadata": {
    "id": "IcHDuwUHsDvJ"
   },
   "source": [
    "# Numpy Exercises\n",
    "\n",
    "This notebook contains the exercises for question 3. Please fill out the incomplete cells, and attach this notebook as a pdf in your write-up when you are done"
   ]
  },
  {
   "cell_type": "code",
   "execution_count": 1,
   "metadata": {
    "id": "yXv0se9esDvR"
   },
   "outputs": [],
   "source": [
    "import numpy as np"
   ]
  },
  {
   "cell_type": "markdown",
   "metadata": {
    "id": "nzC-qOHnsDvS"
   },
   "source": [
    "We've provided sample test cases for you to verify your code with. Please note that passing these test cases does **not** guarantee that your implementation is correct. We encourage you to write your own test cases, especially when debugging."
   ]
  },
  {
   "cell_type": "code",
   "execution_count": 2,
   "metadata": {
    "id": "rycFFD6tsDvS"
   },
   "outputs": [],
   "source": [
    "TEST_INPUT_PART_A = np.array([[0.37454012, 0.95071431, 0.73199394],\n",
    " [0.59865848, 0.15601864, 0.15599452],\n",
    " [0.05808361, 0.86617615, 0.60111501],\n",
    " [0.70807258, 0.02058449, 0.96990985],\n",
    " [0.83244264, 0.21233911, 0.18182497]])\n",
    "TEST_OUTPUT_PART_A = np.array([2.05724837, 0.91067164, 1.52537477, 1.69856692, 1.22660672])\n",
    "\n",
    "TEST_INPUT_PART_B1 = np.array([1, 2, 3, 4])\n",
    "TEST_INPUT_PART_B2 = np.array([0.1, 0.2, 0.3])\n",
    "TEST_OUTPUT_PART_B = np.array([[1.1, 1.2, 1.3],\n",
    " [2.1, 2.2, 2.3],\n",
    " [3.1, 3.2, 3.3],\n",
    " [4.1, 4.2, 4.3]])\n",
    "\n",
    "TEST_INPUT_PART_C1 = np.array(\n",
    "[[0.00552212, 0.81546143, 0.70685734],\n",
    " [0.72900717, 0.77127035, 0.07404465],\n",
    " [0.35846573, 0.11586906, 0.86310343],\n",
    " [0.62329813, 0.33089802, 0.06355835]]\n",
    ")\n",
    "TEST_INPUT_PART_C2 = np.array(\n",
    "[[0.31098232, 0.32518332, 0.72960618],\n",
    " [0.63755747, 0.88721274, 0.47221493],\n",
    " [0.11959425, 0.71324479, 0.76078505],\n",
    " [0.5612772,  0.77096718, 0.4937956 ],\n",
    " [0.52273283, 0.42754102, 0.02541913],\n",
    " [0.10789143, 0.03142919, 0.63641041]]\n",
    ")\n",
    "TEST_OUTPUT_PART_C = np.array([2, 1, 0, 1, 3, 2])\n",
    "\n",
    "TEST_INPUT_PART_D0a = np.array([[0.63352971, 0.53577468, 0.09028977, 0.8353025],\n",
    " [0.32078006, 0.18651851, 0.04077514, 0.59089294],\n",
    " [0.67756436, 0.01658783, 0.51209306, 0.22649578],\n",
    " [0.64517279, 0.17436643, 0.69093774, 0.38673535],\n",
    " [0.93672999, 0.13752094, 0.34106635, 0.11347352]])\n",
    "TEST_INPUT_PART_D0b = np.array([[0.92469362],\n",
    " [0.87733935],\n",
    " [0.25794163],\n",
    " [0.65998405]])\n",
    "TEST_OUTPUT_PART_D0 = np.array([2, 0.719627281044947])\n",
    "\n",
    "def check_answer(predicted, actual):\n",
    "    try:\n",
    "        assert np.allclose(predicted, actual), \"INCORRECT\"\n",
    "        print(\"CORRECT\")\n",
    "    except:\n",
    "        print(\"INCORRECT\")"
   ]
  },
  {
   "cell_type": "markdown",
   "metadata": {
    "id": "wmHXEYrhsDvT"
   },
   "source": [
    "## Part A (1 pt)\n",
    "One use case of numpy is computing the norm of a set of vectors. In this question, given $N×M$ matrix $A$ compute numpy array $B$ of size $N$ such that entry $B[i]$ is the $l_1$-norm of row i in matrix $A$ (maximum lines of code 1 - note that line limits do not include the function definition lines; no partial credit will awarded if more lines are used)."
   ]
  },
  {
   "cell_type": "code",
   "execution_count": 3,
   "metadata": {
    "colab": {
     "base_uri": "https://localhost:8080/"
    },
    "executionInfo": {
     "elapsed": 144,
     "status": "ok",
     "timestamp": 1630461269372,
     "user": {
      "displayName": "Prateeksunder Pinchi",
      "photoUrl": "",
      "userId": "12272920669851801669"
     },
     "user_tz": 240
    },
    "id": "sKrTXQwbsDvU",
    "outputId": "3f40291a-2264-4fe8-f058-97101e7a1a7c"
   },
   "outputs": [
    {
     "name": "stdout",
     "output_type": "stream",
     "text": [
      "CORRECT\n"
     ]
    }
   ],
   "source": [
    "def part_a(A):\n",
    "    # TODO: given NxM matrix A return a numpy array of size N\n",
    "    # that consists of the l1-norm of each row\n",
    "    return np.linalg.norm(A, ord = 1, axis = 1)\n",
    "\n",
    "#print(part_a(TEST_INPUT_PART_A)) \n",
    "#Order of norm = 1 for L1-norm, axis = 1 to add by rows\n",
    "check_answer(part_a(TEST_INPUT_PART_A), TEST_OUTPUT_PART_A)"
   ]
  },
  {
   "cell_type": "markdown",
   "metadata": {
    "id": "uTjMpo9WsDvV"
   },
   "source": [
    "## Part B (2 pts)\n",
    "Another useful feature in numpy is broadcasting. Sometimes given a pair of vectors (or more) we wish to reconstruct a matrix from them. In this case given a numpy array $A$ of size $N$ and a numpy array $B$ of size $M$, construct and return $N \\times M$ matrix C where $C[i, j] = A[i]  + B[j]$. (maximum lines of code 1 - note that line limits do not include the function definition lines; no partial credit will awarded if more lines are used)."
   ]
  },
  {
   "cell_type": "code",
   "execution_count": 4,
   "metadata": {
    "colab": {
     "base_uri": "https://localhost:8080/"
    },
    "executionInfo": {
     "elapsed": 132,
     "status": "ok",
     "timestamp": 1630461272443,
     "user": {
      "displayName": "Prateeksunder Pinchi",
      "photoUrl": "",
      "userId": "12272920669851801669"
     },
     "user_tz": 240
    },
    "id": "JehsRtkesDvV",
    "outputId": "0cb51736-e1c4-4d90-bd82-1b084bf30171"
   },
   "outputs": [
    {
     "name": "stdout",
     "output_type": "stream",
     "text": [
      "CORRECT\n"
     ]
    }
   ],
   "source": [
    "def part_b(A, B):\n",
    "    # TODO: Given a N element numpy array A, \n",
    "    # and an M element numpy array B\n",
    "    # return an NxM matrix C where C[i,j] = A[i] + B[j]\n",
    "    return A.reshape(4,1) + B\n",
    "\n",
    "#reshapes input 1 of shape (1,4) to (4,1)\n",
    "#print(part_b(TEST_INPUT_PART_B1, TEST_INPUT_PART_B2)) \n",
    "check_answer(part_b(TEST_INPUT_PART_B1, TEST_INPUT_PART_B2), TEST_OUTPUT_PART_B)"
   ]
  },
  {
   "cell_type": "markdown",
   "metadata": {
    "id": "W-R0J5fYsDvV"
   },
   "source": [
    "## Part C (3 pts)\n",
    "Another potential application is assigning points to groups. In this question we will consider a set of cell towers and a set of home addresses. The goal is to find the the closest cell tower for each home address. You are given the set of cell towers in matrix $A$. $A$ is a $M \\times D$ matrix which denotes the locations of $M$ towers in a $D$ dimensional space. You are also given a $N \\times D$ matrix $B$ which is the set of locations of the home addresses.  You must return numpy array $C$ of size $N$ where $C[i]$ is the cell tower that home $i$ ($i^{th}$ row of matrix B) should be assigned to.\n",
    "\t\t\n",
    "For example, if the 9th home address $B[9, :]$ is closest to the 6th cell tower $A[6, :]$ then $C[9] = 6$. (maximum lines of code 4 - note that line limits do not include the function definition lines; no partial credit will awarded if more lines are used). \n",
    "\n",
    "HINT: $$||\\bar{x} - \\bar{y}||^2  = ||\\bar{x}||^2 + ||\\bar{y}||^2 - 2*\\bar{x}^T\\bar{y}$$"
   ]
  },
  {
   "cell_type": "markdown",
   "metadata": {
    "id": "LzAPBrA2sDvW"
   },
   "source": [
    "For this question, we have provided a buggy solution. Please find and fix the bugs in the solution for full credit."
   ]
  },
  {
   "cell_type": "code",
   "execution_count": 5,
   "metadata": {
    "id": "VGBy4y-csDvW"
   },
   "outputs": [
    {
     "name": "stdout",
     "output_type": "stream",
     "text": [
      "CORRECT\n"
     ]
    }
   ],
   "source": [
    "def part_c(A, B):\n",
    "    # TODO: fix the buggy solution below\n",
    "    #A = np.expand_dims(A, axis = 0)\n",
    "    #C = ((np.linalg.norm(A, axis=1)**2).reshape(6,2) + (np.linalg.norm(B, axis=1)**2) - 2 * np.matmul(A, B.T))\n",
    "    C = ((np.linalg.norm(A, axis=1)**2).reshape(4,1) + (np.linalg.norm(B, axis=1)**2).T - 2 * np.matmul(A, B.T))\n",
    "    return np.argmin(C, axis=0)\n",
    "\n",
    "#print(part_c(TEST_INPUT_PART_C1, TEST_INPUT_PART_C2))\n",
    "check_answer(part_c(TEST_INPUT_PART_C1, TEST_INPUT_PART_C2), TEST_OUTPUT_PART_C)"
   ]
  },
  {
   "cell_type": "markdown",
   "metadata": {
    "id": "wWoJ2-P8sDvW"
   },
   "source": [
    "## Part D  (3 pts) \n",
    "Given $M$ $D$-dimensional vectors in matrix $A$ and vector $B$, find the vector in $A$ with the smallest $\\cos{\\alpha}$ (where $\\alpha$ is the angle between the vector in $A$ and $B$)  and return as a tuple (the index of this vector, $\\cos{\\alpha}$ between them). In this case, matrix $A$ is an $M \\times D$ matrix of points in $D$ dimensional space and vector $B$ is a $D \\times 1$ vector. For example if it is the vector in row 6, return (6, cos(angle)).You may assume the angle for all vectors is between ($\\frac{-\\pi}{2}$ and $\\frac{\\pi}{2}$ degrees). (maximum lines of code 5 - note that line limits do not include the function definition lines; no partial credit will awarded if more lines are used).\n",
    "\n",
    "HINT:\n",
    "$$\\bar{a} \\cdot \\bar{b}  = ||\\bar{a}|| ||\\bar{b}|| cos(\\alpha)$$"
   ]
  },
  {
   "cell_type": "code",
   "execution_count": 6,
   "metadata": {
    "colab": {
     "base_uri": "https://localhost:8080/"
    },
    "executionInfo": {
     "elapsed": 173,
     "status": "ok",
     "timestamp": 1630461279422,
     "user": {
      "displayName": "Prateeksunder Pinchi",
      "photoUrl": "",
      "userId": "12272920669851801669"
     },
     "user_tz": 240
    },
    "id": "RDBCExufsDvW",
    "outputId": "50eb8509-efa0-4b7c-8595-ac17411897ee"
   },
   "outputs": [
    {
     "name": "stdout",
     "output_type": "stream",
     "text": [
      "INCORRECT\n"
     ]
    }
   ],
   "source": [
    "def part_d(A, B):\n",
    "    # TODO: given M-D-dimensional vectors as \n",
    "    # a MxD matrix A and a Dx1 vector B find the \n",
    "    # return the following: \n",
    "    # np.array([index of vector, cos(angle) betweeen them])\n",
    "    pass\n",
    "\n",
    "check_answer(part_d(TEST_INPUT_PART_D0a, TEST_INPUT_PART_D0b), TEST_OUTPUT_PART_D0)"
   ]
  },
  {
   "cell_type": "markdown",
   "metadata": {
    "id": "34iEfuN0sDvX"
   },
   "source": [
    "Make sure to export this notebook as a pdf and attach it to your solution document."
   ]
  }
 ],
 "metadata": {
  "colab": {
   "collapsed_sections": [],
   "provenance": []
  },
  "kernelspec": {
   "display_name": "Python 3 (ipykernel)",
   "language": "python",
   "name": "python3"
  },
  "language_info": {
   "codemirror_mode": {
    "name": "ipython",
    "version": 3
   },
   "file_extension": ".py",
   "mimetype": "text/x-python",
   "name": "python",
   "nbconvert_exporter": "python",
   "pygments_lexer": "ipython3",
   "version": "3.7.4"
  }
 },
 "nbformat": 4,
 "nbformat_minor": 1
}
